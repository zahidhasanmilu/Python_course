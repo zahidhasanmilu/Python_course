{
 "cells": [
  {
   "cell_type": "code",
   "execution_count": null,
   "metadata": {},
   "outputs": [],
   "source": [
    "#Python Dictionaries"
   ]
  },
  {
   "cell_type": "code",
   "execution_count": 4,
   "metadata": {},
   "outputs": [
    {
     "data": {
      "text/plain": [
       "dict"
      ]
     },
     "execution_count": 4,
     "metadata": {},
     "output_type": "execute_result"
    }
   ],
   "source": [
    "#print a dictionary:\n",
    "\n",
    "a = {\n",
    "    'Name' : 'Zahid',\n",
    "    'Semester' : 'Ninth',\n",
    "    'id' : 21190101083,\n",
    "    'Date of Birth' : '17 Dec 1996'\n",
    "}\n"
   ]
  },
  {
   "cell_type": "code",
   "execution_count": 12,
   "metadata": {},
   "outputs": [
    {
     "data": {
      "text/plain": [
       "4"
      ]
     },
     "execution_count": 12,
     "metadata": {},
     "output_type": "execute_result"
    }
   ],
   "source": [
    "a = {\n",
    "    'Name' : 'Zahid',\n",
    "    'Semester' : 'Ninth',\n",
    "    'id' : 21190101083,\n",
    "    'Date of Birth' : '17 Dec 1996'\n",
    "}\n",
    "\n",
    "\n",
    "type(a)\n",
    "len(a) \n",
    "\n",
    "\n",
    "#Access\n",
    "a.values()\n",
    "a.keys()\n",
    "a.get('Name')\n",
    "a['Semester']\n"
   ]
  },
  {
   "cell_type": "code",
   "execution_count": 13,
   "metadata": {},
   "outputs": [
    {
     "data": {
      "text/plain": [
       "{'Name': 'Zahid Hasan Milu',\n",
       " 'Semester': 'Ninth',\n",
       " 'id': 21190101083,\n",
       " 'Date of Birth': '17 Dec 1996',\n",
       " 'Present Address': 'Dhaka',\n",
       " 'Permanent Address': 'Dinajpur'}"
      ]
     },
     "execution_count": 13,
     "metadata": {},
     "output_type": "execute_result"
    }
   ],
   "source": [
    "a = {\n",
    "    'Name' : 'Zahid',\n",
    "    'Semester' : 'Ninth',\n",
    "    'id' : 21190101083,\n",
    "    'Date of Birth' : '17 Dec 1996'\n",
    "}\n",
    "\n",
    "#update\n",
    "#add\n",
    "#insert\n",
    "\n",
    "a['Name'] = 'Zahid Hasan Milu'\n",
    "a.update({ \n",
    "    'Present Address' : 'Dhaka' , \n",
    "    'Permanent Address' : 'Dinajpur'\n",
    "    })\n",
    "\n",
    "\n",
    "a"
   ]
  },
  {
   "cell_type": "code",
   "execution_count": 33,
   "metadata": {},
   "outputs": [
    {
     "data": {
      "text/plain": [
       "{'Name': 'Zahid Hasan Milu',\n",
       " 'Semester': 'Ninth',\n",
       " 'Date of Birth': '17 Dec 1996',\n",
       " 'Present Address': 'Dhaka'}"
      ]
     },
     "execution_count": 33,
     "metadata": {},
     "output_type": "execute_result"
    }
   ],
   "source": [
    "a = {'Name': 'Zahid Hasan Milu',\n",
    "    'Semester': 'Ninth',\n",
    "    'Id': 21190101083,\n",
    "    'Date of Birth': '17 Dec 1996',\n",
    "    'Present Address': 'Dhaka',\n",
    "    'Permanent Address': 'Dinajpur'\n",
    "    }\n",
    "\n",
    "#remove\n",
    "#pop\n",
    "#del\n",
    "del a['Id']\n",
    "a.popitem()\n",
    "a.pop('Permanent Address')\n",
    "\n",
    "#Element change\n",
    "a['Present Address'] = 'Fulbari, Dinajpur'\n",
    "\n",
    "a"
   ]
  },
  {
   "cell_type": "code",
   "execution_count": null,
   "metadata": {},
   "outputs": [],
   "source": []
  }
 ],
 "metadata": {
  "interpreter": {
   "hash": "8ed7e431ecf337587d3cdef9550f9b1a9f93471da9959e6939345bceb7cd3bcd"
  },
  "kernelspec": {
   "display_name": "Python 3.9.7 64-bit",
   "language": "python",
   "name": "python3"
  },
  "language_info": {
   "codemirror_mode": {
    "name": "ipython",
    "version": 3
   },
   "file_extension": ".py",
   "mimetype": "text/x-python",
   "name": "python",
   "nbconvert_exporter": "python",
   "pygments_lexer": "ipython3",
   "version": "3.9.7"
  },
  "orig_nbformat": 4
 },
 "nbformat": 4,
 "nbformat_minor": 2
}
