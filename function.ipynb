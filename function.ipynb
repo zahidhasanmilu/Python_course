{
 "cells": [
  {
   "cell_type": "code",
   "execution_count": 1,
   "metadata": {},
   "outputs": [
    {
     "name": "stdout",
     "output_type": "stream",
     "text": [
      "15\n"
     ]
    }
   ],
   "source": [
    "def add(a, b):\n",
    "    return a + b\n",
    "\n",
    "\n",
    "num_1 = int(input('Enter 1st number: '))\n",
    "num_2 = int(input('Enter end number: '))\n",
    "\n",
    "print(add(num_1, num_2))\n",
    " "
   ]
  },
  {
   "cell_type": "code",
   "execution_count": 8,
   "metadata": {},
   "outputs": [
    {
     "name": "stdout",
     "output_type": "stream",
     "text": [
      "11\n",
      "821\n",
      "1054\n"
     ]
    }
   ],
   "source": [
    "def add(a, b):\n",
    "    return a + b\n",
    "\n",
    "\n",
    "print(add(4, 7))\n",
    "print(add(89, 732))\n",
    "print(add(55, 999))\n"
   ]
  },
  {
   "cell_type": "code",
   "execution_count": 10,
   "metadata": {},
   "outputs": [
    {
     "name": "stdout",
     "output_type": "stream",
     "text": [
      "Good morning, Rashid\n"
     ]
    }
   ],
   "source": [
    "def greet(name):\n",
    "    print(\"Good morning, \" + name)\n",
    "\n",
    "\n",
    "greet('Rashid')\n"
   ]
  },
  {
   "cell_type": "code",
   "execution_count": 11,
   "metadata": {},
   "outputs": [
    {
     "name": "stdout",
     "output_type": "stream",
     "text": [
      "This is an Odd number\n"
     ]
    }
   ],
   "source": [
    "def check_number(num):\n",
    "    if num % 2== 0 :\n",
    "        print(\"This is an even number\")\n",
    "    else:\n",
    "        print(\"This is an Odd number\")\n",
    "\n",
    "number = int(input(\"Enter Number : \"))\n",
    "\n",
    "check_number(number)"
   ]
  },
  {
   "cell_type": "code",
   "execution_count": 12,
   "metadata": {},
   "outputs": [
    {
     "name": "stdout",
     "output_type": "stream",
     "text": [
      "Hi, I am from Bangladesh\n",
      "Hi, I am from USA\n"
     ]
    }
   ],
   "source": [
    "def home(country='Bangladesh'):\n",
    "    print('Hi, I am from ' + country)\n",
    "\n",
    "\n",
    "home()\n",
    "home(\"USA\")\n"
   ]
  },
  {
   "cell_type": "code",
   "execution_count": 17,
   "metadata": {},
   "outputs": [
    {
     "name": "stdout",
     "output_type": "stream",
     "text": [
      "4 is less than 11\n"
     ]
    }
   ],
   "source": [
    "def find_max(a, b):\n",
    "    if a > b:\n",
    "        return format(a) + \" is greater than \" + format(b)\n",
    "    elif a < b:\n",
    "        return format(a) + \" is less than \" + format(b)\n",
    "    elif a == b:\n",
    "        return format(a) + \" and \" + format(b) + \" both are same\"\n",
    "\n",
    "number1 = int(input(\"Enter Number a : \"))\n",
    "number2 = int(input(\"Enter Number b : \"))\n",
    "\n",
    "\n",
    "print(find_max(number1, number2))\n",
    "\n"
   ]
  },
  {
   "cell_type": "code",
   "execution_count": 22,
   "metadata": {},
   "outputs": [
    {
     "name": "stdout",
     "output_type": "stream",
     "text": [
      "0b1100\n",
      "0b10\n"
     ]
    }
   ],
   "source": [
    "def binary(a, b):\n",
    "    return bin(a), bin(b)\n",
    "\n",
    "\n",
    "x, y = (binary(12, 2))\n",
    "print(x)\n",
    "print(y)\n"
   ]
  },
  {
   "cell_type": "code",
   "execution_count": 24,
   "metadata": {},
   "outputs": [
    {
     "name": "stdout",
     "output_type": "stream",
     "text": [
      "4\n",
      "16\n",
      "9\n",
      "25\n",
      "100\n"
     ]
    }
   ],
   "source": [
    "def print_square(numbers):\n",
    "    for item in numbers:\n",
    "        print(item * item)\n",
    "\n",
    "\n",
    "number_list = [2, 4, 3, 5, 10]\n",
    "print_square(number_list)\n"
   ]
  },
  {
   "cell_type": "code",
   "execution_count": 30,
   "metadata": {},
   "outputs": [
    {
     "data": {
      "text/plain": [
       "[0, 1, 4, 9, 16, 25, 36, 49, 64, 81]"
      ]
     },
     "execution_count": 30,
     "metadata": {},
     "output_type": "execute_result"
    }
   ],
   "source": [
    "def get_square():\n",
    "    square_list = []\n",
    "    for item in range (10):\n",
    "        square_list.append(item*item)\n",
    "    return square_list\n",
    "    \n",
    "get_square()"
   ]
  }
 ],
 "metadata": {
  "interpreter": {
   "hash": "c089c4c02e24e1f1a32755d2d8b74f17c3c5985254bcc39fee8c3ac3debb8fa9"
  },
  "kernelspec": {
   "display_name": "Python 3.10.1 64-bit",
   "language": "python",
   "name": "python3"
  },
  "language_info": {
   "codemirror_mode": {
    "name": "ipython",
    "version": 3
   },
   "file_extension": ".py",
   "mimetype": "text/x-python",
   "name": "python",
   "nbconvert_exporter": "python",
   "pygments_lexer": "ipython3",
   "version": "3.10.1"
  },
  "orig_nbformat": 4
 },
 "nbformat": 4,
 "nbformat_minor": 2
}
