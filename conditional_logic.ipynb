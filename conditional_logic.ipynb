{
 "cells": [
  {
   "cell_type": "code",
   "execution_count": 8,
   "metadata": {},
   "outputs": [
    {
     "name": "stdout",
     "output_type": "stream",
     "text": [
      "You are eligible for gold credit card\n"
     ]
    }
   ],
   "source": [
    "age = int(input('Enter age : '))\n",
    "salary = int(input('Enter salary: '))\n",
    "\n",
    "if age >= 20:\n",
    "    if salary >= 45000:\n",
    "        print('You are eligible for premium gold credit card')\n",
    "    elif salary >= 40000 and salary < 45000:\n",
    "        print('You are eligible for gold credit card')\n",
    "    else:\n",
    "        print('You are eligible for credit card')\n",
    "\n",
    "elif age > 15:\n",
    "    if salary >= 10000:\n",
    "        print('you are eligible for debit card')\n",
    "    else:\n",
    "        print('you are not eligible for debit card')    \n",
    "\n",
    "else:\n",
    "    print('You are not eligible for any card')"
   ]
  }
 ],
 "metadata": {
  "interpreter": {
   "hash": "8ed7e431ecf337587d3cdef9550f9b1a9f93471da9959e6939345bceb7cd3bcd"
  },
  "kernelspec": {
   "display_name": "Python 3.9.7 64-bit",
   "language": "python",
   "name": "python3"
  },
  "language_info": {
   "codemirror_mode": {
    "name": "ipython",
    "version": 3
   },
   "file_extension": ".py",
   "mimetype": "text/x-python",
   "name": "python",
   "nbconvert_exporter": "python",
   "pygments_lexer": "ipython3",
   "version": "3.9.7"
  },
  "orig_nbformat": 4
 },
 "nbformat": 4,
 "nbformat_minor": 2
}
