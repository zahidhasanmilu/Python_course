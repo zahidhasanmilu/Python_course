{
 "cells": [
  {
   "cell_type": "code",
   "execution_count": 1,
   "metadata": {},
   "outputs": [],
   "source": [
    "#comment, Variable, Type Conversion, String formating"
   ]
  },
  {
   "cell_type": "code",
   "execution_count": 2,
   "metadata": {},
   "outputs": [
    {
     "data": {
      "text/plain": [
       "('hello world', 3)"
      ]
     },
     "execution_count": 2,
     "metadata": {},
     "output_type": "execute_result"
    }
   ],
   "source": [
    "#variable\n",
    "a = 'hello world' #a is variable\n",
    "b = 3             #b is variable\n",
    "a,b"
   ]
  },
  {
   "cell_type": "code",
   "execution_count": 16,
   "metadata": {},
   "outputs": [
    {
     "data": {
      "text/plain": [
       "'HellO PythOn'"
      ]
     },
     "execution_count": 16,
     "metadata": {},
     "output_type": "execute_result"
    }
   ],
   "source": [
    "a = 'Hello Python'\n",
    "a.lower()\n",
    "a.upper()\n",
    "a.count(\"h\")\n",
    "a.title()\n",
    "a.endswith(\"n\")\n",
    "a.startswith(\"P\")\n",
    "len(a)\n",
    "a.replace('o',\"O\")"
   ]
  },
  {
   "cell_type": "code",
   "execution_count": 32,
   "metadata": {},
   "outputs": [
    {
     "data": {
      "text/plain": [
       "(39.0, 'Zahid', 3.1416)"
      ]
     },
     "execution_count": 32,
     "metadata": {},
     "output_type": "execute_result"
    }
   ],
   "source": [
    "#Type_conversion\n",
    "a = 39\n",
    "type(a)\n",
    "\n",
    "a = str(a)\n",
    "type(a)\n",
    "\n",
    "a = float(a)\n",
    "type(a)\n",
    "\n",
    "#\n",
    "b = \"Zahid\"\n",
    "type(b)\n",
    "\n",
    "\n",
    "c = 3.1416\n",
    "type(c)\n",
    "\n",
    "d = True\n",
    "type(d)\n",
    "\n",
    "a,b,c\n"
   ]
  },
  {
   "cell_type": "code",
   "execution_count": 43,
   "metadata": {},
   "outputs": [
    {
     "name": "stdout",
     "output_type": "stream",
     "text": [
      "Your name is Milu,Your age is 25, and Your Weight 68.5\n",
      "Your name is Milu, Your age is 25, and Your weight is 68.5\n",
      "Your name is Milu, Your age is 25', and Your weight is 68.500000\n"
     ]
    }
   ],
   "source": [
    "#string formating\n",
    "name = \"Milu\"\n",
    "age = 25\n",
    "weight = 68.5\n",
    "\n",
    "print(f\"Your name is {name},Your age is {age}, and Your Weight {weight}\")\n",
    "print(\"Your name is {0}, Your age is {1}, and Your weight is {2}\".format(name, age, weight))\n",
    "print(\"Your name is %s, Your age is %d', and Your weight is %f\" %(name, age, weight))"
   ]
  }
 ],
 "metadata": {
  "interpreter": {
   "hash": "8ed7e431ecf337587d3cdef9550f9b1a9f93471da9959e6939345bceb7cd3bcd"
  },
  "kernelspec": {
   "display_name": "Python 3.9.7 64-bit",
   "language": "python",
   "name": "python3"
  },
  "language_info": {
   "codemirror_mode": {
    "name": "ipython",
    "version": 3
   },
   "file_extension": ".py",
   "mimetype": "text/x-python",
   "name": "python",
   "nbconvert_exporter": "python",
   "pygments_lexer": "ipython3",
   "version": "3.9.7"
  },
  "orig_nbformat": 4
 },
 "nbformat": 4,
 "nbformat_minor": 2
}
