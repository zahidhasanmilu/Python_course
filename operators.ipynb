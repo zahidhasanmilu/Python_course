{
 "cells": [
  {
   "cell_type": "code",
   "execution_count": null,
   "metadata": {},
   "outputs": [],
   "source": [
    "#Operator   "
   ]
  },
  {
   "cell_type": "code",
   "execution_count": null,
   "metadata": {},
   "outputs": [],
   "source": [
    "#Operator\n",
    "1. Arithmetic operators\n",
    "2. Assignment operators\n",
    "3. Comparison operators\n",
    "4. Logical operators\n",
    "5. Identity operators\n",
    "6. Membership operators\n",
    "7. Bitwise operators\n"
   ]
  },
  {
   "cell_type": "code",
   "execution_count": null,
   "metadata": {},
   "outputs": [],
   "source": [
    "1. Arithmetic operators\n",
    "\n",
    "    +\tAddition\t    x + y\t\n",
    "    -\tSubtraction \tx - y\t\n",
    "    *\tMultiplication\tx * y\t\n",
    "    /\tDivision    \tx / y\t\n",
    "    %\tModulus     \tx % y\t\n",
    "    **\tExponentiation\tx ** y\t\n",
    "    //\tFloor division\tx // y"
   ]
  },
  {
   "cell_type": "code",
   "execution_count": null,
   "metadata": {},
   "outputs": [],
   "source": [
    "2. Assignment operators\n",
    "    =\t    x = 5\t    x = 5\t\n",
    "    +=  \tx += 3  \tx = x + 3\t\n",
    "    -=  \tx -= 3  \tx = x - 3\t\n",
    "    *=  \tx *= 3      x = x * 3\t\n",
    "    /=  \tx /= 3\t    x = x / 3\t\n",
    "    %=  \tx %= 3  \tx = x % 3\t\n",
    "    //= \tx //= 3 \tx = x // 3\t\n",
    "    **= \tx **= 3\t    x = x ** 3\t\n",
    "    &=  \tx &= 3  \tx = x & 3\t\n",
    "    |=  \tx |= 3  \tx = x | 3"
   ]
  },
  {
   "cell_type": "code",
   "execution_count": null,
   "metadata": {},
   "outputs": [],
   "source": [
    "3. Comparison operators \n",
    "    ==      \tEqual\t                        x == y\t\n",
    "    !=  \t    Not equal\t                    x != y\t\n",
    "    >\t        Greater than\t                x > y\t\n",
    "    <\t        Less than\t                    x < y\t\n",
    "    >=      \tGreater than or equal to\t    x >= y\t\n",
    "    <=\t        Less than or equal to\t        x <= y"
   ]
  },
  {
   "cell_type": "code",
   "execution_count": null,
   "metadata": {},
   "outputs": [],
   "source": [
    "4. Logical operators\n",
    "    and \tReturns True if both statements are true\t                    x < 5 and  x < 10\t\n",
    "    or\t    Returns True if one of the statements is true\t                x < 5 or x < 4\t\n",
    "    not\t    Reverse the result, returns False if the result is true\t        not(x < 5 and x < 10)\n"
   ]
  },
  {
   "cell_type": "code",
   "execution_count": null,
   "metadata": {},
   "outputs": [],
   "source": [
    "5. Identity operators\n",
    "    is          \tReturns True if both variables are the same object          \tx is y\t\n",
    "    is not\t        Returns True if both variables are not the same object\t        x is not y"
   ]
  },
  {
   "cell_type": "code",
   "execution_count": null,
   "metadata": {},
   "outputs": [],
   "source": [
    "6. Membership operators\n",
    "    in \t        Returns True if a sequence with the specified value is present in the object\t        x in y\t\n",
    "    not in\t    Returns True if a sequence with the specified value is not present in the object\t    x not in y"
   ]
  }
 ],
 "metadata": {
  "language_info": {
   "name": "python"
  },
  "orig_nbformat": 4
 },
 "nbformat": 4,
 "nbformat_minor": 2
}
