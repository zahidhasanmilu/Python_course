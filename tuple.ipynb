{
 "cells": [
  {
   "cell_type": "code",
   "execution_count": null,
   "metadata": {},
   "outputs": [],
   "source": [
    "#tuple\n"
   ]
  },
  {
   "cell_type": "code",
   "execution_count": null,
   "metadata": {},
   "outputs": [],
   "source": [
    "#1. create a tuple \n",
    "#2. access Items (Negative/Positive)\n",
    "#3. tuple length, Counter\n",
    "#4. append, insert\n",
    "#5. remove, pop, del, clear \n",
    "#6. joining tuple\n",
    "#7. find Index\n",
    "#8. reverse \n",
    "#9. sort "
   ]
  },
  {
   "cell_type": "code",
   "execution_count": 7,
   "metadata": {},
   "outputs": [
    {
     "data": {
      "text/plain": [
       "2"
      ]
     },
     "execution_count": 7,
     "metadata": {},
     "output_type": "execute_result"
    }
   ],
   "source": [
    "#1. create a tuple\n",
    "a = ('apple','mango','onion','orange','apple')\n",
    "\n",
    "#2. access Items (Negative/Positive)\n",
    "a[0]\n",
    "a[-1]\n",
    "\n",
    "\n",
    "#3. tuple length, Counter\n",
    "len(a)\n",
    "a.count('apple')"
   ]
  },
  {
   "cell_type": "code",
   "execution_count": 13,
   "metadata": {},
   "outputs": [
    {
     "data": {
      "text/plain": [
       "['apple', 'mango', 'onion', 'orange', 'apple']"
      ]
     },
     "execution_count": 13,
     "metadata": {},
     "output_type": "execute_result"
    }
   ],
   "source": [
    "a = ('apple','mango','onion','orange','apple')\n",
    "#4. append, insert\n",
    "#5. remove, pop, del, clear \n",
    "\n",
    "#append ( in tuple not possible )\n",
    "#insert ( in tuple not possible )\n",
    "\n",
    "a = list(a) #if i want to append,remove  data on tuple , so first we need to change variable tuple to list . otherwise in tuple it isn't possible.\n"
   ]
  },
  {
   "cell_type": "code",
   "execution_count": 18,
   "metadata": {},
   "outputs": [
    {
     "data": {
      "text/plain": [
       "('apple', 'mango', 'onion', 'orange', 'apple', 'papaya', 'graps', 'banana')"
      ]
     },
     "execution_count": 18,
     "metadata": {},
     "output_type": "execute_result"
    }
   ],
   "source": [
    "#6. joining tuple\n",
    "a = ('apple','mango','onion','orange','apple')\n",
    "b = ('papaya','graps','banana')\n",
    "c = a + b\n",
    "\n",
    "\n",
    "#7. find Index\n",
    "c.index('orange')\n",
    "c"
   ]
  }
 ],
 "metadata": {
  "interpreter": {
   "hash": "8ed7e431ecf337587d3cdef9550f9b1a9f93471da9959e6939345bceb7cd3bcd"
  },
  "kernelspec": {
   "display_name": "Python 3.9.7 64-bit",
   "language": "python",
   "name": "python3"
  },
  "language_info": {
   "codemirror_mode": {
    "name": "ipython",
    "version": 3
   },
   "file_extension": ".py",
   "mimetype": "text/x-python",
   "name": "python",
   "nbconvert_exporter": "python",
   "pygments_lexer": "ipython3",
   "version": "3.9.7"
  },
  "orig_nbformat": 4
 },
 "nbformat": 4,
 "nbformat_minor": 2
}
