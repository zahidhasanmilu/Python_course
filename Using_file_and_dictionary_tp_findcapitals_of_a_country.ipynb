{
 "cells": [
  {
   "cell_type": "code",
   "execution_count": 3,
   "metadata": {},
   "outputs": [
    {
     "name": "stdout",
     "output_type": "stream",
     "text": [
      "['Country', 'Capital', 'Currency']\n",
      "['Bangladesh', 'Dhaka', 'Taka']\n",
      "['India', 'New-Delhi', 'Rupees']\n",
      "['China', 'Beijing', 'Renminbi']\n",
      "['Srilanka', 'Colombo', 'Rupees']\n",
      "['USA', 'New-York', 'Dollars']\n"
     ]
    }
   ],
   "source": [
    "file = open(\"C:\\\\Users\\Zahid Hasan Milu\\Desktop\\Country.txt\", \"r\")\n",
    "country = []\n",
    "\n",
    "for line in file:\n",
    "    x = line.split()    \n",
    "    country.append(x)\n",
    "    print(x)\n"
   ]
  },
  {
   "cell_type": "code",
   "execution_count": 15,
   "metadata": {},
   "outputs": [
    {
     "name": "stdout",
     "output_type": "stream",
     "text": [
      "{'country': 'Capital', 'bangladesh': 'Dhaka', 'india': 'New-Delhi', 'china': 'Beijing', 'srilanka': 'Colombo', 'usa': 'New-York'}\n",
      "{'country': 'Currency', 'bangladesh': 'Taka', 'india': 'Rupees', 'china': 'Renminbi', 'srilanka': 'Rupees', 'usa': 'Dollars'}\n"
     ]
    }
   ],
   "source": [
    "capital = {}\n",
    "currency = {}\n",
    "for countries in country:\n",
    "    key = countries[0].lower()\n",
    "    value = countries[1]\n",
    "    second_value = countries[2]\n",
    "    capital[key] = value\n",
    "    currency[key] = second_value\n",
    "\n",
    "print(capital)\n",
    "print(currency)\n",
    "\n"
   ]
  },
  {
   "cell_type": "code",
   "execution_count": 18,
   "metadata": {},
   "outputs": [
    {
     "name": "stdout",
     "output_type": "stream",
     "text": [
      "yes\n"
     ]
    }
   ],
   "source": [
    "x = input(\"Enter the name of country\")\n",
    "\n",
    "output_file = open(\"C:\\\\Users\\Zahid Hasan Milu\\Desktop\\OUTF.txt\", \"w\")\n",
    "\n",
    "if x.lower() in capital:\n",
    "    output_file.write('The capital of '+ x +' is '+capital[x.lower()] +'\\n' )\n",
    "    output_file.write('The currency of '+ x +' is '+currency[x.lower()])\n",
    "    print(\"yes\")\n",
    "else:\n",
    "    print(\"Country name not found\")\n",
    "\n",
    "output_file.close()"
   ]
  }
 ],
 "metadata": {
  "interpreter": {
   "hash": "c089c4c02e24e1f1a32755d2d8b74f17c3c5985254bcc39fee8c3ac3debb8fa9"
  },
  "kernelspec": {
   "display_name": "Python 3.10.1 64-bit",
   "language": "python",
   "name": "python3"
  },
  "language_info": {
   "codemirror_mode": {
    "name": "ipython",
    "version": 3
   },
   "file_extension": ".py",
   "mimetype": "text/x-python",
   "name": "python",
   "nbconvert_exporter": "python",
   "pygments_lexer": "ipython3",
   "version": "3.10.1"
  },
  "orig_nbformat": 4
 },
 "nbformat": 4,
 "nbformat_minor": 2
}
