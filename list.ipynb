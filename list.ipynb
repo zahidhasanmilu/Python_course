{
 "cells": [
  {
   "cell_type": "code",
   "execution_count": null,
   "metadata": {},
   "outputs": [],
   "source": [
    "#list"
   ]
  },
  {
   "cell_type": "code",
   "execution_count": null,
   "metadata": {},
   "outputs": [],
   "source": [
    "#1. create a list \n",
    "#2. access Items (Negative/Positive)\n",
    "#3. list length, Counter\n",
    "#4. append, insert\n",
    "#5. remove, pop, del, clear \n",
    "#6. joining list\n",
    "#7. find Index\n",
    "#8. reverse \n",
    "#9. sort "
   ]
  },
  {
   "cell_type": "code",
   "execution_count": 2,
   "metadata": {},
   "outputs": [
    {
     "data": {
      "text/plain": [
       "['mango', 'apple', 'banana', 'apple']"
      ]
     },
     "execution_count": 2,
     "metadata": {},
     "output_type": "execute_result"
    }
   ],
   "source": [
    "a = ['mango','apple','banana', 'apple']\n",
    "a"
   ]
  },
  {
   "cell_type": "code",
   "execution_count": 14,
   "metadata": {},
   "outputs": [
    {
     "data": {
      "text/plain": [
       "['mango', 'onion', 'apple', 'banana', 'apple', 'orange']"
      ]
     },
     "execution_count": 14,
     "metadata": {},
     "output_type": "execute_result"
    }
   ],
   "source": [
    "a = ['mango','apple','banana', 'apple']\n",
    "#2. access Items (Negative/Positive)\n",
    "a[2] \n",
    "a[-1]\n",
    "\n",
    "#3. list length, Counter\n",
    "len(a)          \n",
    "a.count('apple')\n",
    "\n",
    "#4. append, insert\n",
    "a.append('orange')\n",
    "a.insert(1,'onion')\n",
    "a\n",
    "\n"
   ]
  },
  {
   "cell_type": "code",
   "execution_count": 31,
   "metadata": {},
   "outputs": [
    {
     "data": {
      "text/plain": [
       "['mango', 'onion', 'banana', 'apple']"
      ]
     },
     "execution_count": 31,
     "metadata": {},
     "output_type": "execute_result"
    }
   ],
   "source": [
    "#5. remove, pop, del, clear \n",
    "a = ['mango', 'onion', 'apple', 'banana', 'apple', 'orange']\n",
    "\n",
    "a.remove('apple')\n",
    "a.pop()\n",
    "del a\n",
    "\n"
   ]
  },
  {
   "cell_type": "code",
   "execution_count": 32,
   "metadata": {},
   "outputs": [
    {
     "data": {
      "text/plain": [
       "['mango', 'onion', 'apple', 'banana', 'apple', 'orange', 1, 2, 6, 'fruits']"
      ]
     },
     "execution_count": 32,
     "metadata": {},
     "output_type": "execute_result"
    }
   ],
   "source": [
    "#6. joining list\n",
    "a = ['mango', 'onion', 'apple', 'banana', 'apple', 'orange']\n",
    "b = [1, 2, 6, 'fruits']\n",
    "\n",
    "c = a + b\n",
    "c"
   ]
  },
  {
   "cell_type": "code",
   "execution_count": 43,
   "metadata": {},
   "outputs": [
    {
     "data": {
      "text/plain": [
       "['fruits', 6, 2, 1, 'orange', 'apple', 'banana', 'apple', 'onion', 'mango']"
      ]
     },
     "execution_count": 43,
     "metadata": {},
     "output_type": "execute_result"
    }
   ],
   "source": [
    "#7. find Index\n",
    "a = ['mango', 'onion', 'apple', 'banana', 'apple', 'orange', 1, 2, 6, 'fruits']\n",
    "a.index('onion')\n",
    "\n",
    "#8. reverse \n",
    "a.reverse()\n",
    "a\n",
    "\n"
   ]
  },
  {
   "cell_type": "code",
   "execution_count": 46,
   "metadata": {},
   "outputs": [
    {
     "data": {
      "text/plain": [
       "[65, 55, 44, 33, 9, 8, 8, 7, 5, 2, 2, 1]"
      ]
     },
     "execution_count": 46,
     "metadata": {},
     "output_type": "execute_result"
    }
   ],
   "source": [
    "#sort\n",
    "a = [33, 65, 8, 5, 9, 2, 44, 1, 2 , 55, 7,8]\n",
    "a.sort()\n",
    "a.reverse()\n",
    "a"
   ]
  }
 ],
 "metadata": {
  "interpreter": {
   "hash": "8ed7e431ecf337587d3cdef9550f9b1a9f93471da9959e6939345bceb7cd3bcd"
  },
  "kernelspec": {
   "display_name": "Python 3.9.7 64-bit",
   "language": "python",
   "name": "python3"
  },
  "language_info": {
   "codemirror_mode": {
    "name": "ipython",
    "version": 3
   },
   "file_extension": ".py",
   "mimetype": "text/x-python",
   "name": "python",
   "nbconvert_exporter": "python",
   "pygments_lexer": "ipython3",
   "version": "3.9.7"
  },
  "orig_nbformat": 4
 },
 "nbformat": 4,
 "nbformat_minor": 2
}
