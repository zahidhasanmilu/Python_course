{
 "cells": [
  {
   "cell_type": "code",
   "execution_count": null,
   "metadata": {},
   "outputs": [],
   "source": [
    "#Sets cannot have two items with the same value\n",
    "#create set\n",
    "#set length/count\n",
    "#appned - add,update\n",
    "#del,remove,clear,pop\n",
    "#union\n",
    "#intersection\n",
    "#difference"
   ]
  },
  {
   "cell_type": "code",
   "execution_count": 1,
   "metadata": {},
   "outputs": [
    {
     "data": {
      "text/plain": [
       "{'apple', 'banana', 'cherry'}"
      ]
     },
     "execution_count": 1,
     "metadata": {},
     "output_type": "execute_result"
    }
   ],
   "source": [
    "a = {\"apple\", \"banana\", \"cherry\"}\n",
    "a\n"
   ]
  },
  {
   "cell_type": "code",
   "execution_count": 15,
   "metadata": {},
   "outputs": [
    {
     "data": {
      "text/plain": [
       "True"
      ]
     },
     "execution_count": 15,
     "metadata": {},
     "output_type": "execute_result"
    }
   ],
   "source": [
    "#Sets cannot have two items with the same value\n",
    "a = {1, 2, 3, 4, 6, 5, 5}\n",
    "b = {\"orange\", \"banana\", \"mango\"}\n",
    "c = {True, False, False}\n",
    "\n",
    "a, b, c, type(a),type(b),type(c)\n",
    "\n",
    "\"orange\" in b\n",
    "\n"
   ]
  },
  {
   "cell_type": "code",
   "execution_count": 26,
   "metadata": {},
   "outputs": [
    {
     "data": {
      "text/plain": [
       "{16, 2, 27, 3, 4, 5, 6, 7, 89, 95, 'orange'}"
      ]
     },
     "execution_count": 26,
     "metadata": {},
     "output_type": "execute_result"
    }
   ],
   "source": [
    "a = {1, 2, 3, 4, 6, 5, 5}\n",
    "b = {\"orange\", \"banana\", \"mango\"}\n",
    "\n",
    "\n",
    "a.add(89)\n",
    "\n",
    "#Add elements a tropical into b :\n",
    "a.update(b)\n",
    "\n",
    "#if we need to update list in tuple\n",
    "c = [16, 7, 5, 95, 27]\n",
    "a.update(c)\n",
    "a\n",
    "\n",
    "#remove,pop,discard,del,clear\n",
    "a.remove('banana')\n",
    "a\n",
    "#If the item to remove does not exist, discard() will NOT raise an error.\n",
    "a.discard('mango')\n",
    "a\n",
    "a.pop()\n",
    "a\n"
   ]
  },
  {
   "cell_type": "code",
   "execution_count": 35,
   "metadata": {},
   "outputs": [
    {
     "data": {
      "text/plain": [
       "{7, 8, 17}"
      ]
     },
     "execution_count": 35,
     "metadata": {},
     "output_type": "execute_result"
    }
   ],
   "source": [
    "#union\n",
    "a = {1, 2, 3, 4, 6, 5, 5}\n",
    "b = {5,6,7,8,2,17}\n",
    "\n",
    "a.union(b)\n",
    "b.union(a)\n",
    "\n",
    "#intersection\n",
    "a.intersection(b)\n",
    "b.intersection(a)\n",
    "\n",
    "#difference\n",
    "a.difference(b)\n",
    "b.difference(a)"
   ]
  }
 ],
 "metadata": {
  "interpreter": {
   "hash": "8ed7e431ecf337587d3cdef9550f9b1a9f93471da9959e6939345bceb7cd3bcd"
  },
  "kernelspec": {
   "display_name": "Python 3.9.7 64-bit",
   "language": "python",
   "name": "python3"
  },
  "language_info": {
   "codemirror_mode": {
    "name": "ipython",
    "version": 3
   },
   "file_extension": ".py",
   "mimetype": "text/x-python",
   "name": "python",
   "nbconvert_exporter": "python",
   "pygments_lexer": "ipython3",
   "version": "3.9.7"
  },
  "orig_nbformat": 4
 },
 "nbformat": 4,
 "nbformat_minor": 2
}
